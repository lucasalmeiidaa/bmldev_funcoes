{
 "cells": [
  {
   "cell_type": "code",
   "execution_count": 1,
   "metadata": {},
   "outputs": [],
   "source": [
    "import pandas as pd\n",
    "from os import listdir\n",
    "from os.path import join\n",
    "from bmldev.loads import txts_to_pd\n",
    "from unicodedata import normalize\n",
    "import re"
   ]
  },
  {
   "cell_type": "markdown",
   "metadata": {},
   "source": [
    "# remover_acentos"
   ]
  },
  {
   "cell_type": "code",
   "execution_count": 48,
   "metadata": {},
   "outputs": [],
   "source": [
    "def remover_acentos(txt):\n",
    "    \"\"\"Função para retirar acentos.\n",
    "    Argumentos:\n",
    "    txt: String a ser normalizada\n",
    "    \"\"\"\n",
    "    \n",
    "    return normalize('NFKD', txt).encode('ASCII', 'ignore').decode('ASCII')"
   ]
  },
  {
   "cell_type": "markdown",
   "metadata": {},
   "source": [
    "# buscar_bases"
   ]
  },
  {
   "cell_type": "code",
   "execution_count": 98,
   "metadata": {},
   "outputs": [],
   "source": [
    "def buscar_bases(path, nomes=None):\n",
    "    \n",
    "    \"\"\"Função para retornar o caminho das bases de forma genérica, desconsiderando acentos e letras maiúsculas.\n",
    "    'AH, MAS QUAL A DIFERENÇA DESSA PRO GLOB?'\n",
    "    R: O GLOB DIFERENCIA LETRAS MAIÚSCULAS DE MINÚSCULAS.\n",
    "    \n",
    "    Argumentos:\n",
    "    path (STRING): Caminho da pasta que contem as bases.\n",
    "        Ex.: 'bases', './Bases', './XXXXX/BaSeS'\n",
    "    \n",
    "    nomes (LISTA): Lista com as palavras-chave que deseja-se procurar nos arquivos bases.\n",
    "        Ex.: Desejo procurar um arquivo na pasta 'bases' que contém a palavra 'manaus', 'MANAUS', 'Manaus', ou até mesmo\n",
    "            'MaNaUs' e outro arquivo que contém a palavra 'Porto Velho', 'porto velho' ou 'PoRtO VelHo'. Como faço?\n",
    "            No argumento 'nomes' eu atribuo uma lista com as palavras ['manaus', 'porto velho'].\n",
    "            \n",
    "        *OBS.: A ordem dessa lista é a ordem que serão retornados os caminhos\n",
    "        \n",
    "    Essa função utiliza expressões regulares, a famosa biblioteca 're'. Isso significa que você pode usar estrutura regex\n",
    "    na lista de nomes, generalizando da sua maneira.\n",
    "        Ex.: Eu desejo obter um caminho de um arquivo que possuir a palavra 'picolé' ou 'picolés'. Usando a expressão\n",
    "        'picole[s]?' eu consigo obter o caminho tanto se o arquivo estiver com a palavra 'picolé' no plural ou não.\n",
    "        \"\"\"\n",
    "    \n",
    "    \n",
    "\n",
    "    for nome in nomes:\n",
    "        for file in listdir(path):\n",
    "            if (re.search(nome, remover_acentos(file), flags=re.IGNORECASE)):\n",
    "#             if re.findall(nome, remover_acentos(file), flags=re.IGNORECASE) != []:\n",
    "            #         print (file)\n",
    "                caminho = join(path, file)\n",
    "                yield caminho "
   ]
  },
  {
   "cell_type": "code",
   "execution_count": 90,
   "metadata": {},
   "outputs": [
    {
     "data": {
      "text/plain": [
       "<re.Match object; span=(0, 10), match='monofasico'>"
      ]
     },
     "execution_count": 90,
     "metadata": {},
     "output_type": "execute_result"
    }
   ],
   "source": [
    "re.search('monofasico[s]?', 'monofasico', flags=re.IGNORECASE)"
   ]
  },
  {
   "cell_type": "code",
   "execution_count": 92,
   "metadata": {},
   "outputs": [
    {
     "name": "stdout",
     "output_type": "stream",
     "text": [
      "OK\n"
     ]
    }
   ],
   "source": [
    "if (re.search('monofasico[s]?', 'monofasico', flags=re.IGNORECASE)):\n",
    "    print('OK')\n",
    "else:\n",
    "    print('NO :(')"
   ]
  },
  {
   "cell_type": "code",
   "execution_count": 99,
   "metadata": {},
   "outputs": [],
   "source": [
    "pf, pj, mono = buscar_bases('bases', nomes=['pf', 'pj', 'monofasico[s]?'])"
   ]
  },
  {
   "cell_type": "code",
   "execution_count": 100,
   "metadata": {},
   "outputs": [
    {
     "data": {
      "text/plain": [
       "'bases/Mapa de Venda Itens Monofásicos.xlsx'"
      ]
     },
     "execution_count": 100,
     "metadata": {},
     "output_type": "execute_result"
    }
   ],
   "source": [
    "mono"
   ]
  },
  {
   "cell_type": "code",
   "execution_count": null,
   "metadata": {},
   "outputs": [],
   "source": []
  }
 ],
 "metadata": {
  "kernelspec": {
   "display_name": "Python 3",
   "language": "python",
   "name": "python3"
  },
  "language_info": {
   "codemirror_mode": {
    "name": "ipython",
    "version": 3
   },
   "file_extension": ".py",
   "mimetype": "text/x-python",
   "name": "python",
   "nbconvert_exporter": "python",
   "pygments_lexer": "ipython3",
   "version": "3.7.1"
  }
 },
 "nbformat": 4,
 "nbformat_minor": 2
}

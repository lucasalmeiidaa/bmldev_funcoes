{
 "cells": [
  {
   "cell_type": "code",
   "execution_count": 4,
   "metadata": {},
   "outputs": [],
   "source": [
    "import os\n",
    "from PyPDF2 import PdfFileReader, PdfFileMerger"
   ]
  },
  {
   "cell_type": "code",
   "execution_count": 7,
   "metadata": {},
   "outputs": [],
   "source": [
    "def merge_pdf(files_dir, nome_saida):\n",
    "    \"\"\"Função para agrupar vários arquivos pdf em um só.\n",
    "    \n",
    "    Argumentos:\n",
    "    files_dir (STRING): Caminho do diretório que contém os arquivos em pdf.\n",
    "    nome_saida (STRING): Nome do arquivo de saída. Também poderá ser passado o caminho em que se deseja salvar.\n",
    "    \"\"\"\n",
    "    \n",
    "    pdf_files = [f for f in os.listdir(files_dir) if f.endswith(\"pdf\")]\n",
    "    merger = PdfFileMerger()\n",
    "\n",
    "    for filename in pdf_files:\n",
    "        merger.append(PdfFileReader(os.path.join(files_dir, filename), \"rb\"))\n",
    "\n",
    "#     merger.write(os.path.join(files_dir, nome_saida))\n",
    "    merger.write(nome_saida)\n",
    "    \n",
    "    return None"
   ]
  },
  {
   "cell_type": "code",
   "execution_count": 6,
   "metadata": {},
   "outputs": [],
   "source": [
    "# merge_pdf('bases_pdf', 'conjunto.pdf')"
   ]
  },
  {
   "cell_type": "code",
   "execution_count": null,
   "metadata": {},
   "outputs": [],
   "source": []
  }
 ],
 "metadata": {
  "kernelspec": {
   "display_name": "Python 3",
   "language": "python",
   "name": "python3"
  },
  "language_info": {
   "codemirror_mode": {
    "name": "ipython",
    "version": 3
   },
   "file_extension": ".py",
   "mimetype": "text/x-python",
   "name": "python",
   "nbconvert_exporter": "python",
   "pygments_lexer": "ipython3",
   "version": "3.7.3"
  }
 },
 "nbformat": 4,
 "nbformat_minor": 2
}

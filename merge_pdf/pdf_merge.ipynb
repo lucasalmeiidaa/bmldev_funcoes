{
 "cells": [
  {
   "cell_type": "code",
   "execution_count": 3,
   "metadata": {},
   "outputs": [],
   "source": [
    "import os\n",
    "from PyPDF2 import PdfFileReader, PdfFileMerger"
   ]
  },
  {
   "cell_type": "code",
   "execution_count": 4,
   "metadata": {},
   "outputs": [],
   "source": [
    "def merge_pdf(files_dir, nome_saida):\n",
    "    pdf_files = [f for f in os.listdir(files_dir) if f.endswith(\"pdf\")]\n",
    "    merger = PdfFileMerger()\n",
    "\n",
    "    for filename in pdf_files:\n",
    "        merger.append(PdfFileReader(os.path.join(files_dir, filename), \"rb\"))\n",
    "\n",
    "    merger.write(os.path.join(files_dir, nome_saida))\n",
    "    \n",
    "    return None"
   ]
  }
 ],
 "metadata": {
  "kernelspec": {
   "display_name": "Python 3",
   "language": "python",
   "name": "python3"
  },
  "language_info": {
   "codemirror_mode": {
    "name": "ipython",
    "version": 3
   },
   "file_extension": ".py",
   "mimetype": "text/x-python",
   "name": "python",
   "nbconvert_exporter": "python",
   "pygments_lexer": "ipython3",
   "version": "3.7.3"
  }
 },
 "nbformat": 4,
 "nbformat_minor": 2
}

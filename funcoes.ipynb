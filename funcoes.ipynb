{
 "cells": [
  {
   "cell_type": "code",
   "execution_count": 2,
   "metadata": {},
   "outputs": [],
   "source": [
    "import pandas as pd\n",
    "from os import listdir\n",
    "from os.path import join\n",
    "# from bmldev.loads import txts_to_pd\n",
    "from unicodedata import normalize\n",
    "import re"
   ]
  },
  {
   "cell_type": "markdown",
   "metadata": {},
   "source": [
    "# remover_acentos"
   ]
  },
  {
   "cell_type": "code",
   "execution_count": 3,
   "metadata": {},
   "outputs": [],
   "source": [
    "def remover_acentos(txt):\n",
    "    \"\"\"Função para retirar acentos.\n",
    "    Argumentos:\n",
    "    txt: String a ser normalizada\n",
    "    \"\"\"\n",
    "    \n",
    "    return normalize('NFKD', txt).encode('ASCII', 'ignore').decode('ASCII')"
   ]
  },
  {
   "cell_type": "markdown",
   "metadata": {},
   "source": [
    "# buscar_bases"
   ]
  },
  {
   "cell_type": "code",
   "execution_count": 18,
   "metadata": {},
   "outputs": [],
   "source": [
    "def buscar_bases(path, nomes=None):\n",
    "    \n",
    "    \"\"\"Função para retornar o caminho das bases de forma genérica, desconsiderando acentos e letras maiúsculas.\n",
    "    'AH, MAS QUAL A DIFERENÇA DESSA PRO GLOB?'\n",
    "    R: O GLOB DIFERENCIA LETRAS MAIÚSCULAS DE MINÚSCULAS.\n",
    "    \n",
    "    Argumentos:\n",
    "    path (STRING): Caminho da pasta que contem as bases.\n",
    "        Ex.: 'bases', './Bases', './XXXXX/BaSeS'\n",
    "    \n",
    "    nomes (LISTA): Lista com as palavras-chave que deseja-se procurar nos arquivos bases.\n",
    "        Ex.: Desejo procurar um arquivo na pasta 'bases' que contém a palavra 'manaus', 'MANAUS', 'Manaus', ou até mesmo\n",
    "            'MaNaUs' e outro arquivo que contém a palavra 'Porto Velho', 'porto velho' ou 'PoRtO VelHo'. Como faço?\n",
    "            No argumento 'nomes' eu atribuo uma lista com as palavras ['manaus', 'porto velho'].\n",
    "            \n",
    "        *OBS.: A ordem dessa lista é a ordem que serão retornados os caminhos\n",
    "        \n",
    "    Essa função utiliza expressões regulares, a famosa biblioteca 're'. Isso significa que você pode usar estrutura regex\n",
    "    na lista de nomes, generalizando da sua maneira.\n",
    "        Ex.: Eu desejo obter um caminho de um arquivo que possuir a palavra 'picolé' ou 'picolés'. Usando a expressão\n",
    "        'picole[s]?' eu consigo obter o caminho tanto se o arquivo estiver com a palavra 'picolé' no plural ou não.\n",
    "        \n",
    "    A função retornará o caminho das bases que derem match com as palavras-chave passadas na lista 'nomes', por isso,\n",
    "    ao utilizar a função, utilize as variaveis que você deseja armazenar os caminhos separas por vírgula.\n",
    "        Ex.: Desejo encontrar as bases com as seguintes palavras-chave:\n",
    "            - pf;\n",
    "            - pj;\n",
    "            - monofasicos e\n",
    "            - glpca\n",
    "            \n",
    "            Então eu posso usar a função da seguinte forma:\n",
    "            \n",
    "            pf, pj, mono, glpca = buscar_bases('bases', nomes=['pf', 'pj', 'monofasico[s]?', 'glpca'])\n",
    "        \n",
    "            Em que pf, pj, mono e glpca retornam o caminho completo das bases.\n",
    "        \n",
    "                                                 ／　　　ヽ |_\n",
    "                                                ￣＼　　　　 ＼\n",
    "                                                ／￣　/|/| /ﾚ､ ヽ＿\n",
    "                                                ￣＼ Yヘ |/ヘ幺　∠\n",
    "                                                 ＜_|(･> <･) 6) ／\n",
    "                                                   (ﾞ　_　ﾞ／＜\n",
    "                                                    ＞､ーイ￣￣\n",
    "                                                   ／厂ヽ／￣/＼\n",
    "                                                   ( ｜　(🇧🇷)(>　)\n",
    "                                                   (ﾐ)ﾆ只ニ(ﾐ_／\n",
    "                                                    /〈/L〉 ヽ\n",
    "                                                   ｜　ヽ　　|\n",
    "                                                   〈＿／ ＼＿〉\n",
    "                                                   ／　)　 (　＼\n",
    "        \"\"\"\n",
    "    \n",
    "    \n",
    "\n",
    "    for nome in nomes:\n",
    "        for file in listdir(path):\n",
    "            if (re.search(nome, remover_acentos(file), flags=re.IGNORECASE)):\n",
    "#             if re.findall(nome, remover_acentos(file), flags=re.IGNORECASE) != []:\n",
    "            #         print (file)\n",
    "                caminho = join(path, file)\n",
    "                yield caminho "
   ]
  },
  {
   "cell_type": "code",
   "execution_count": 16,
   "metadata": {},
   "outputs": [],
   "source": [
    "# if (re.search('monofasico[s]?', 'monofasico', flags=re.IGNORECASE)):\n",
    "#     print('OK')\n",
    "# else:\n",
    "#     print('NO :(')"
   ]
  },
  {
   "cell_type": "code",
   "execution_count": 15,
   "metadata": {},
   "outputs": [],
   "source": [
    "# pf, pj, mono, glpca = buscar_bases('bases', nomes=['pf', 'pj', 'monofasico[s]?', 'glpca'])"
   ]
  }
 ],
 "metadata": {
  "kernelspec": {
   "display_name": "Python 3",
   "language": "python",
   "name": "python3"
  },
  "language_info": {
   "codemirror_mode": {
    "name": "ipython",
    "version": 3
   },
   "file_extension": ".py",
   "mimetype": "text/x-python",
   "name": "python",
   "nbconvert_exporter": "python",
   "pygments_lexer": "ipython3",
   "version": "3.7.1"
  }
 },
 "nbformat": 4,
 "nbformat_minor": 2
}
